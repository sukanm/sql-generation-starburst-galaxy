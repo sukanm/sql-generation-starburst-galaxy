{
 "cells": [
  {
   "cell_type": "code",
   "execution_count": 6,
   "metadata": {},
   "outputs": [
    {
     "name": "stderr",
     "output_type": "stream",
     "text": [
      "huggingface/tokenizers: The current process just got forked, after parallelism has already been used. Disabling parallelism to avoid deadlocks...\n",
      "To disable this warning, you can either:\n",
      "\t- Avoid using `tokenizers` before the fork if possible\n",
      "\t- Explicitly set the environment variable TOKENIZERS_PARALLELISM=(true | false)\n"
     ]
    },
    {
     "name": "stdout",
     "output_type": "stream",
     "text": [
      "Requirement already satisfied: torch in /home/andy/Documents/GitHub/StarburstConfigs/.conda/lib/python3.11/site-packages (2.2.0)\n",
      "Requirement already satisfied: transformers in /home/andy/Documents/GitHub/StarburstConfigs/.conda/lib/python3.11/site-packages (4.37.2)\n",
      "Requirement already satisfied: bitsandbytes in /home/andy/Documents/GitHub/StarburstConfigs/.conda/lib/python3.11/site-packages (0.42.0)\n",
      "Requirement already satisfied: accelerate in /home/andy/Documents/GitHub/StarburstConfigs/.conda/lib/python3.11/site-packages (0.27.2)\n",
      "Requirement already satisfied: sqlparse in /home/andy/Documents/GitHub/StarburstConfigs/.conda/lib/python3.11/site-packages (0.4.4)\n",
      "Collecting pystarburst\n",
      "  Downloading pystarburst-0.7.0-py3-none-any.whl.metadata (2.8 kB)\n",
      "Requirement already satisfied: filelock in /home/andy/Documents/GitHub/StarburstConfigs/.conda/lib/python3.11/site-packages (from torch) (3.13.1)\n",
      "Requirement already satisfied: typing-extensions>=4.8.0 in /home/andy/Documents/GitHub/StarburstConfigs/.conda/lib/python3.11/site-packages (from torch) (4.9.0)\n",
      "Requirement already satisfied: sympy in /home/andy/Documents/GitHub/StarburstConfigs/.conda/lib/python3.11/site-packages (from torch) (1.12)\n",
      "Requirement already satisfied: networkx in /home/andy/Documents/GitHub/StarburstConfigs/.conda/lib/python3.11/site-packages (from torch) (3.2.1)\n",
      "Requirement already satisfied: jinja2 in /home/andy/Documents/GitHub/StarburstConfigs/.conda/lib/python3.11/site-packages (from torch) (3.1.3)\n",
      "Requirement already satisfied: fsspec in /home/andy/Documents/GitHub/StarburstConfigs/.conda/lib/python3.11/site-packages (from torch) (2023.10.0)\n",
      "Requirement already satisfied: nvidia-cuda-nvrtc-cu12==12.1.105 in /home/andy/Documents/GitHub/StarburstConfigs/.conda/lib/python3.11/site-packages (from torch) (12.1.105)\n",
      "Requirement already satisfied: nvidia-cuda-runtime-cu12==12.1.105 in /home/andy/Documents/GitHub/StarburstConfigs/.conda/lib/python3.11/site-packages (from torch) (12.1.105)\n",
      "Requirement already satisfied: nvidia-cuda-cupti-cu12==12.1.105 in /home/andy/Documents/GitHub/StarburstConfigs/.conda/lib/python3.11/site-packages (from torch) (12.1.105)\n",
      "Requirement already satisfied: nvidia-cudnn-cu12==8.9.2.26 in /home/andy/Documents/GitHub/StarburstConfigs/.conda/lib/python3.11/site-packages (from torch) (8.9.2.26)\n",
      "Requirement already satisfied: nvidia-cublas-cu12==12.1.3.1 in /home/andy/Documents/GitHub/StarburstConfigs/.conda/lib/python3.11/site-packages (from torch) (12.1.3.1)\n",
      "Requirement already satisfied: nvidia-cufft-cu12==11.0.2.54 in /home/andy/Documents/GitHub/StarburstConfigs/.conda/lib/python3.11/site-packages (from torch) (11.0.2.54)\n",
      "Requirement already satisfied: nvidia-curand-cu12==10.3.2.106 in /home/andy/Documents/GitHub/StarburstConfigs/.conda/lib/python3.11/site-packages (from torch) (10.3.2.106)\n",
      "Requirement already satisfied: nvidia-cusolver-cu12==11.4.5.107 in /home/andy/Documents/GitHub/StarburstConfigs/.conda/lib/python3.11/site-packages (from torch) (11.4.5.107)\n",
      "Requirement already satisfied: nvidia-cusparse-cu12==12.1.0.106 in /home/andy/Documents/GitHub/StarburstConfigs/.conda/lib/python3.11/site-packages (from torch) (12.1.0.106)\n",
      "Requirement already satisfied: nvidia-nccl-cu12==2.19.3 in /home/andy/Documents/GitHub/StarburstConfigs/.conda/lib/python3.11/site-packages (from torch) (2.19.3)\n",
      "Requirement already satisfied: nvidia-nvtx-cu12==12.1.105 in /home/andy/Documents/GitHub/StarburstConfigs/.conda/lib/python3.11/site-packages (from torch) (12.1.105)\n",
      "Requirement already satisfied: triton==2.2.0 in /home/andy/Documents/GitHub/StarburstConfigs/.conda/lib/python3.11/site-packages (from torch) (2.2.0)\n",
      "Requirement already satisfied: nvidia-nvjitlink-cu12 in /home/andy/Documents/GitHub/StarburstConfigs/.conda/lib/python3.11/site-packages (from nvidia-cusolver-cu12==11.4.5.107->torch) (12.3.101)\n",
      "Requirement already satisfied: huggingface-hub<1.0,>=0.19.3 in /home/andy/Documents/GitHub/StarburstConfigs/.conda/lib/python3.11/site-packages (from transformers) (0.20.3)\n",
      "Requirement already satisfied: numpy>=1.17 in /home/andy/Documents/GitHub/StarburstConfigs/.conda/lib/python3.11/site-packages (from transformers) (1.26.4)\n",
      "Requirement already satisfied: packaging>=20.0 in /home/andy/Documents/GitHub/StarburstConfigs/.conda/lib/python3.11/site-packages (from transformers) (23.2)\n",
      "Requirement already satisfied: pyyaml>=5.1 in /home/andy/Documents/GitHub/StarburstConfigs/.conda/lib/python3.11/site-packages (from transformers) (6.0.1)\n",
      "Requirement already satisfied: regex!=2019.12.17 in /home/andy/Documents/GitHub/StarburstConfigs/.conda/lib/python3.11/site-packages (from transformers) (2023.12.25)\n",
      "Requirement already satisfied: requests in /home/andy/Documents/GitHub/StarburstConfigs/.conda/lib/python3.11/site-packages (from transformers) (2.31.0)\n",
      "Requirement already satisfied: tokenizers<0.19,>=0.14 in /home/andy/Documents/GitHub/StarburstConfigs/.conda/lib/python3.11/site-packages (from transformers) (0.15.2)\n",
      "Requirement already satisfied: safetensors>=0.4.1 in /home/andy/Documents/GitHub/StarburstConfigs/.conda/lib/python3.11/site-packages (from transformers) (0.4.2)\n",
      "Requirement already satisfied: tqdm>=4.27 in /home/andy/Documents/GitHub/StarburstConfigs/.conda/lib/python3.11/site-packages (from transformers) (4.66.2)\n",
      "Requirement already satisfied: scipy in /home/andy/Documents/GitHub/StarburstConfigs/.conda/lib/python3.11/site-packages (from bitsandbytes) (1.12.0)\n",
      "Requirement already satisfied: psutil in /home/andy/Documents/GitHub/StarburstConfigs/.conda/lib/python3.11/site-packages (from accelerate) (5.9.8)\n",
      "Requirement already satisfied: pydantic<2.0.0,>=1.10.14 in /home/andy/Documents/GitHub/StarburstConfigs/.conda/lib/python3.11/site-packages (from pystarburst) (1.10.14)\n",
      "Requirement already satisfied: python-dateutil<3.0.0,>=2.8.2 in /home/andy/Documents/GitHub/StarburstConfigs/.conda/lib/python3.11/site-packages (from pystarburst) (2.8.2)\n",
      "Collecting trino<0.328.0,>=0.327.0 (from pystarburst)\n",
      "  Downloading trino-0.327.0-py3-none-any.whl.metadata (17 kB)\n",
      "Collecting urllib3<3.0.0,>=2.2.0 (from pystarburst)\n",
      "  Downloading urllib3-2.2.1-py3-none-any.whl.metadata (6.4 kB)\n",
      "Requirement already satisfied: six>=1.5 in /home/andy/Documents/GitHub/StarburstConfigs/.conda/lib/python3.11/site-packages (from python-dateutil<3.0.0,>=2.8.2->pystarburst) (1.16.0)\n",
      "Requirement already satisfied: pytz in /home/andy/Documents/GitHub/StarburstConfigs/.conda/lib/python3.11/site-packages (from trino<0.328.0,>=0.327.0->pystarburst) (2024.1)\n",
      "Requirement already satisfied: tzlocal in /home/andy/Documents/GitHub/StarburstConfigs/.conda/lib/python3.11/site-packages (from trino<0.328.0,>=0.327.0->pystarburst) (5.2)\n",
      "Requirement already satisfied: charset-normalizer<4,>=2 in /home/andy/Documents/GitHub/StarburstConfigs/.conda/lib/python3.11/site-packages (from requests->transformers) (3.3.2)\n",
      "Requirement already satisfied: idna<4,>=2.5 in /home/andy/Documents/GitHub/StarburstConfigs/.conda/lib/python3.11/site-packages (from requests->transformers) (3.6)\n",
      "Requirement already satisfied: certifi>=2017.4.17 in /home/andy/Documents/GitHub/StarburstConfigs/.conda/lib/python3.11/site-packages (from requests->transformers) (2024.2.2)\n",
      "Requirement already satisfied: MarkupSafe>=2.0 in /home/andy/Documents/GitHub/StarburstConfigs/.conda/lib/python3.11/site-packages (from jinja2->torch) (2.1.5)\n",
      "Requirement already satisfied: mpmath>=0.19 in /home/andy/Documents/GitHub/StarburstConfigs/.conda/lib/python3.11/site-packages (from sympy->torch) (1.3.0)\n",
      "Downloading pystarburst-0.7.0-py3-none-any.whl (130 kB)\n",
      "\u001b[2K   \u001b[38;2;114;156;31m━━━━━━━━━━━━━━━━━━━━━━━━━━━━━━━━━━━━━━━━\u001b[0m \u001b[32m130.7/130.7 kB\u001b[0m \u001b[31m2.6 MB/s\u001b[0m eta \u001b[36m0:00:00\u001b[0mMB/s\u001b[0m eta \u001b[36m0:00:01\u001b[0m\n",
      "\u001b[?25hDownloading trino-0.327.0-py3-none-any.whl (49 kB)\n",
      "\u001b[2K   \u001b[38;2;114;156;31m━━━━━━━━━━━━━━━━━━━━━━━━━━━━━━━━━━━━━━━━\u001b[0m \u001b[32m49.2/49.2 kB\u001b[0m \u001b[31m2.6 MB/s\u001b[0m eta \u001b[36m0:00:00\u001b[0m\n",
      "\u001b[?25hDownloading urllib3-2.2.1-py3-none-any.whl (121 kB)\n",
      "\u001b[2K   \u001b[38;2;114;156;31m━━━━━━━━━━━━━━━━━━━━━━━━━━━━━━━━━━━━━━━━\u001b[0m \u001b[32m121.1/121.1 kB\u001b[0m \u001b[31m3.5 MB/s\u001b[0m eta \u001b[36m0:00:00\u001b[0m MB/s\u001b[0m eta \u001b[36m0:00:01\u001b[0m\n",
      "\u001b[?25hInstalling collected packages: urllib3, trino, pystarburst\n",
      "  Attempting uninstall: urllib3\n",
      "    Found existing installation: urllib3 1.26.6\n",
      "    Uninstalling urllib3-1.26.6:\n",
      "      Successfully uninstalled urllib3-1.26.6\n",
      "Successfully installed pystarburst-0.7.0 trino-0.327.0 urllib3-2.2.1\n"
     ]
    }
   ],
   "source": [
    "!pip install torch transformers bitsandbytes accelerate sqlparse pystarburst"
   ]
  },
  {
   "cell_type": "code",
   "execution_count": 8,
   "metadata": {},
   "outputs": [],
   "source": [
    "import torch\n",
    "from transformers import AutoTokenizer, AutoModelForCausalLM"
   ]
  },
  {
   "cell_type": "code",
   "execution_count": 37,
   "metadata": {},
   "outputs": [
    {
     "name": "stdout",
     "output_type": "stream",
     "text": [
      "CREATE TABLE sample.burstbank.account (\n",
      "   custkey varchar,\n",
      "   acctkey varchar,\n",
      "   products varchar,\n",
      "   cc_number varchar,\n",
      "   cc_open_date varchar,\n",
      "   cc_closed_date varchar,\n",
      "   cc_balance double,\n",
      "   cc_status varchar,\n",
      "   cc_default varchar,\n",
      "   mortgage_id varchar,\n",
      "   mortgage_open_date varchar,\n",
      "   mortgage_closed_date varchar,\n",
      "   mortgage_balance double,\n",
      "   mortgage_status varchar,\n",
      "   mortgage_default varchar,\n",
      "   auto_loan_id varchar,\n",
      "   auto_loan_open_date varchar,\n",
      "   auto_loan_closed_date varchar,\n",
      "   auto_loan_balance double,\n",
      "   auto_loan_status varchar,\n",
      "   auto_loan_default varchar\n",
      ")\n",
      "WITH (\n",
      "   external_location = 's3://galaxy-space-dataset-aws-us-east2/demo/burstbank/account',\n",
      "   format = 'ORC',\n",
      "   type = 'HIVE'\n",
      ")\n"
     ]
    }
   ],
   "source": [
    "from trino.dbapi import connect\n",
    "\n",
    "conn = connect(\n",
    "    host=\"andydemo-sample.trino.galaxy.starburst.io\",\n",
    "    port=443,\n",
    "    http_scheme=\"https\",\n",
    "    catalog=\"sample\",\n",
    "    schema=\"burstbank\",\n",
    "    auth= trino.auth.BasicAuthentication(\"andy@starburstdata.com\",\"sR55*RtJ5\")\n",
    ")\n",
    "\n",
    "cur = conn.cursor()\n",
    "cur.execute(\"show create table sample.burstbank.account\")\n",
    "rows = cur.fetchall()\n",
    "myString = \"\"\n",
    "for elem in rows:\n",
    "    for elem1 in elem:\n",
    "        myString = elem1\n",
    "print(myString)"
   ]
  },
  {
   "cell_type": "code",
   "execution_count": null,
   "metadata": {},
   "outputs": [],
   "source": []
  },
  {
   "cell_type": "code",
   "execution_count": 38,
   "metadata": {},
   "outputs": [
    {
     "data": {
      "application/vnd.jupyter.widget-view+json": {
       "model_id": "a1feaff75181421daf8e420cdf0b53c0",
       "version_major": 2,
       "version_minor": 0
      },
      "text/plain": [
       "Loading checkpoint shards:   0%|          | 0/3 [00:00<?, ?it/s]"
      ]
     },
     "metadata": {},
     "output_type": "display_data"
    },
    {
     "name": "stdout",
     "output_type": "stream",
     "text": [
      "### Task\n",
      "Generate a SQL query to answer [QUESTION]{question}[/QUESTION]\n",
      "\n",
      "### Instructions\n",
      "- If you cannot answer the question with the available database schema, return 'I do not know'\n",
      "- Remember that revenue is price multiplied by quantity\n",
      "- Remember that cost is supply_price multiplied by quantity\n",
      "\n",
      "### Database Schema\n",
      "This query will run on a database whose schema is represented in this string:\n",
      "CREATE TABLE sample.burstbank.account (\n",
      "   custkey varchar,\n",
      "   acctkey varchar,\n",
      "   products varchar,\n",
      "   cc_number varchar,\n",
      "   cc_open_date varchar,\n",
      "   cc_closed_date varchar,\n",
      "   cc_balance double,\n",
      "   cc_status varchar,\n",
      "   cc_default varchar,\n",
      "   mortgage_id varchar,\n",
      "   mortgage_open_date varchar,\n",
      "   mortgage_closed_date varchar,\n",
      "   mortgage_balance double,\n",
      "   mortgage_status varchar,\n",
      "   mortgage_default varchar,\n",
      "   auto_loan_id varchar,\n",
      "   auto_loan_open_date varchar,\n",
      "   auto_loan_closed_date varchar,\n",
      "   auto_loan_balance double,\n",
      "   auto_loan_status varchar,\n",
      "   auto_loan_default varchar\n",
      ")\n",
      "WITH (\n",
      "   external_location = 's3://galaxy-space-dataset-aws-us-east2/demo/burstbank/account',\n",
      "   format = 'ORC',\n",
      "   type = 'HIVE'\n",
      ")\n",
      "### Answer\n",
      "Given the database schema, here is the SQL query that answers [QUESTION]{question}[/QUESTION]\n",
      "[SQL]\n",
      "\n"
     ]
    }
   ],
   "source": [
    "model_name = \"defog/sqlcoder-7b-2\"\n",
    "tokenizer = AutoTokenizer.from_pretrained(model_name)\n",
    "model = AutoModelForCausalLM.from_pretrained(\n",
    "        model_name,\n",
    "        cache_dir=\"./models/\"\n",
    ")\n",
    "\n",
    "prompt = \"\"\"### Task\n",
    "Generate a SQL query to answer [QUESTION]{question}[/QUESTION]\n",
    "\n",
    "### Instructions\n",
    "- If you cannot answer the question with the available database schema, return 'I do not know'\n",
    "- Remember that revenue is price multiplied by quantity\n",
    "- Remember that cost is supply_price multiplied by quantity\n",
    "\n",
    "### Database Schema\n",
    "This query will run on a database whose schema is represented in this string:\n",
    "\"\"\"+myString+\"\"\"\n",
    "### Answer\n",
    "Given the database schema, here is the SQL query that answers [QUESTION]{question}[/QUESTION]\n",
    "[SQL]\n",
    "\"\"\"\n",
    "\n",
    "print(prompt)"
   ]
  },
  {
   "cell_type": "code",
   "execution_count": 39,
   "metadata": {},
   "outputs": [],
   "source": [
    "import sqlparse\n",
    "\n",
    "def generate_query(question):\n",
    "    updated_prompt = prompt.format(question=question)\n",
    "    inputs = tokenizer(updated_prompt, return_tensors=\"pt\").to(\"cpu\")\n",
    "    generated_ids = model.generate(\n",
    "        **inputs,\n",
    "        num_return_sequences=1,\n",
    "        eos_token_id=tokenizer.eos_token_id,\n",
    "        pad_token_id=tokenizer.eos_token_id,\n",
    "        max_new_tokens=400,\n",
    "        do_sample=False,\n",
    "        num_beams=1,\n",
    "    )\n",
    "    outputs = tokenizer.batch_decode(generated_ids, skip_special_tokens=True)\n",
    "\n",
    "    # empty cache so that you do generate more results w/o memory crashing\n",
    "    # particularly important on Colab – memory management is much more straightforward\n",
    "    # when running on an inference service\n",
    "    return sqlparse.format(outputs[0].split(\"[SQL]\")[-1], reindent=True)"
   ]
  },
  {
   "cell_type": "code",
   "execution_count": 40,
   "metadata": {},
   "outputs": [
    {
     "name": "stdout",
     "output_type": "stream",
     "text": [
      "\n",
      "SELECT AVG(a.cc_balance) AS average_credit_card_balance\n",
      "FROM sample.burstbank.account a\n",
      "WHERE a.cc_status = 'credit';\n"
     ]
    }
   ],
   "source": [
    "question = \"What is the average credit card balance?\"\n",
    "generated_sql = generate_query(question)\n",
    "print(generated_sql)"
   ]
  },
  {
   "cell_type": "code",
   "execution_count": 42,
   "metadata": {},
   "outputs": [
    {
     "name": "stdout",
     "output_type": "stream",
     "text": [
      "[[None]]\n"
     ]
    }
   ],
   "source": [
    "generated_sql = generated_sql[:-1]\n",
    "cur.execute(generated_sql)\n",
    "rows = cur.fetchall()\n",
    "\n",
    "print(rows)"
   ]
  }
 ],
 "metadata": {
  "kernelspec": {
   "display_name": "Python 3",
   "language": "python",
   "name": "python3"
  },
  "language_info": {
   "codemirror_mode": {
    "name": "ipython",
    "version": 3
   },
   "file_extension": ".py",
   "mimetype": "text/x-python",
   "name": "python",
   "nbconvert_exporter": "python",
   "pygments_lexer": "ipython3",
   "version": "3.11.7"
  }
 },
 "nbformat": 4,
 "nbformat_minor": 2
}
