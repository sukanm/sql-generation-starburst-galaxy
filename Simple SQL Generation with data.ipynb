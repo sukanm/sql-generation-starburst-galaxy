{
 "cells": [
  {
   "cell_type": "markdown",
   "metadata": {},
   "source": [
    "We need to use Python 3.10"
   ]
  },
  {
   "cell_type": "code",
   "execution_count": 6,
   "metadata": {},
   "outputs": [
    {
     "name": "stdout",
     "output_type": "stream",
     "text": [
      "Requirement already satisfied: torch in /Users/andrew.mott/anaconda3/envs/localGPT/lib/python3.10/site-packages (2.1.2)\n",
      "Requirement already satisfied: transformers in /Users/andrew.mott/anaconda3/envs/localGPT/lib/python3.10/site-packages (4.36.2)\n",
      "Requirement already satisfied: bitsandbytes in /Users/andrew.mott/anaconda3/envs/localGPT/lib/python3.10/site-packages (0.42.0)\n",
      "Requirement already satisfied: accelerate in /Users/andrew.mott/anaconda3/envs/localGPT/lib/python3.10/site-packages (0.25.0)\n",
      "Requirement already satisfied: sqlparse in /Users/andrew.mott/anaconda3/envs/localGPT/lib/python3.10/site-packages (0.4.4)\n",
      "Requirement already satisfied: pystarburst in /Users/andrew.mott/anaconda3/envs/localGPT/lib/python3.10/site-packages (0.7.0)\n",
      "Requirement already satisfied: python-dotenv in /Users/andrew.mott/anaconda3/envs/localGPT/lib/python3.10/site-packages (1.0.0)\n",
      "Requirement already satisfied: filelock in /Users/andrew.mott/anaconda3/envs/localGPT/lib/python3.10/site-packages (from torch) (3.13.1)\n",
      "Requirement already satisfied: typing-extensions in /Users/andrew.mott/anaconda3/envs/localGPT/lib/python3.10/site-packages (from torch) (4.10.0)\n",
      "Requirement already satisfied: sympy in /Users/andrew.mott/anaconda3/envs/localGPT/lib/python3.10/site-packages (from torch) (1.12)\n",
      "Requirement already satisfied: networkx in /Users/andrew.mott/anaconda3/envs/localGPT/lib/python3.10/site-packages (from torch) (3.2.1)\n",
      "Requirement already satisfied: jinja2 in /Users/andrew.mott/anaconda3/envs/localGPT/lib/python3.10/site-packages (from torch) (3.1.2)\n",
      "Requirement already satisfied: fsspec in /Users/andrew.mott/anaconda3/envs/localGPT/lib/python3.10/site-packages (from torch) (2023.12.2)\n",
      "Requirement already satisfied: huggingface-hub<1.0,>=0.19.3 in /Users/andrew.mott/anaconda3/envs/localGPT/lib/python3.10/site-packages (from transformers) (0.20.2)\n",
      "Requirement already satisfied: numpy>=1.17 in /Users/andrew.mott/anaconda3/envs/localGPT/lib/python3.10/site-packages (from transformers) (1.26.3)\n",
      "Requirement already satisfied: packaging>=20.0 in /Users/andrew.mott/anaconda3/envs/localGPT/lib/python3.10/site-packages (from transformers) (23.2)\n",
      "Requirement already satisfied: pyyaml>=5.1 in /Users/andrew.mott/anaconda3/envs/localGPT/lib/python3.10/site-packages (from transformers) (6.0.1)\n",
      "Requirement already satisfied: regex!=2019.12.17 in /Users/andrew.mott/anaconda3/envs/localGPT/lib/python3.10/site-packages (from transformers) (2023.12.25)\n",
      "Requirement already satisfied: requests in /Users/andrew.mott/anaconda3/envs/localGPT/lib/python3.10/site-packages (from transformers) (2.31.0)\n",
      "Requirement already satisfied: tokenizers<0.19,>=0.14 in /Users/andrew.mott/anaconda3/envs/localGPT/lib/python3.10/site-packages (from transformers) (0.15.0)\n",
      "Requirement already satisfied: safetensors>=0.3.1 in /Users/andrew.mott/anaconda3/envs/localGPT/lib/python3.10/site-packages (from transformers) (0.4.1)\n",
      "Requirement already satisfied: tqdm>=4.27 in /Users/andrew.mott/anaconda3/envs/localGPT/lib/python3.10/site-packages (from transformers) (4.66.1)\n",
      "Requirement already satisfied: scipy in /Users/andrew.mott/anaconda3/envs/localGPT/lib/python3.10/site-packages (from bitsandbytes) (1.11.4)\n",
      "Requirement already satisfied: psutil in /Users/andrew.mott/anaconda3/envs/localGPT/lib/python3.10/site-packages (from accelerate) (5.9.0)\n",
      "Requirement already satisfied: pydantic<2.0.0,>=1.10.14 in /Users/andrew.mott/anaconda3/envs/localGPT/lib/python3.10/site-packages (from pystarburst) (1.10.14)\n",
      "Requirement already satisfied: python-dateutil<3.0.0,>=2.8.2 in /Users/andrew.mott/anaconda3/envs/localGPT/lib/python3.10/site-packages (from pystarburst) (2.8.2)\n",
      "Requirement already satisfied: trino<0.328.0,>=0.327.0 in /Users/andrew.mott/anaconda3/envs/localGPT/lib/python3.10/site-packages (from pystarburst) (0.327.0)\n",
      "Requirement already satisfied: urllib3<3.0.0,>=2.2.0 in /Users/andrew.mott/anaconda3/envs/localGPT/lib/python3.10/site-packages (from pystarburst) (2.2.1)\n",
      "Requirement already satisfied: six>=1.5 in /Users/andrew.mott/anaconda3/envs/localGPT/lib/python3.10/site-packages (from python-dateutil<3.0.0,>=2.8.2->pystarburst) (1.16.0)\n",
      "Requirement already satisfied: pytz in /Users/andrew.mott/anaconda3/envs/localGPT/lib/python3.10/site-packages (from trino<0.328.0,>=0.327.0->pystarburst) (2023.3.post1)\n",
      "Requirement already satisfied: tzlocal in /Users/andrew.mott/anaconda3/envs/localGPT/lib/python3.10/site-packages (from trino<0.328.0,>=0.327.0->pystarburst) (5.2)\n",
      "Requirement already satisfied: charset-normalizer<4,>=2 in /Users/andrew.mott/anaconda3/envs/localGPT/lib/python3.10/site-packages (from requests->transformers) (3.3.2)\n",
      "Requirement already satisfied: idna<4,>=2.5 in /Users/andrew.mott/anaconda3/envs/localGPT/lib/python3.10/site-packages (from requests->transformers) (3.6)\n",
      "Requirement already satisfied: certifi>=2017.4.17 in /Users/andrew.mott/anaconda3/envs/localGPT/lib/python3.10/site-packages (from requests->transformers) (2023.11.17)\n",
      "Requirement already satisfied: MarkupSafe>=2.0 in /Users/andrew.mott/anaconda3/envs/localGPT/lib/python3.10/site-packages (from jinja2->torch) (2.1.3)\n",
      "Requirement already satisfied: mpmath>=0.19 in /Users/andrew.mott/anaconda3/envs/localGPT/lib/python3.10/site-packages (from sympy->torch) (1.3.0)\n",
      "Note: you may need to restart the kernel to use updated packages.\n"
     ]
    }
   ],
   "source": [
    "%pip install torch transformers bitsandbytes accelerate sqlparse pystarburst python-dotenv"
   ]
  },
  {
   "cell_type": "code",
   "execution_count": 7,
   "metadata": {},
   "outputs": [],
   "source": [
    "import torch\n",
    "import os\n",
    "import trino\n",
    "from transformers import AutoTokenizer, AutoModelForCausalLM\n",
    "from dotenv import load_dotenv"
   ]
  },
  {
   "cell_type": "code",
   "execution_count": 10,
   "metadata": {},
   "outputs": [
    {
     "name": "stdout",
     "output_type": "stream",
     "text": [
      "['custkey', 'acctkey', 'products', 'cc_number', 'cc_open_date', 'cc_closed_date', 'cc_balance', 'cc_status', 'cc_default', 'mortgage_id', 'mortgage_open_date', 'mortgage_closed_date', 'mortgage_balance', 'mortgage_status', 'mortgage_default', 'auto_loan_id', 'auto_loan_open_date', 'auto_loan_closed_date', 'auto_loan_balance', 'auto_loan_status', 'auto_loan_default']\n",
      "['1000001', '1217470', 'credit_card,auto_loan', '180045349625167', '2000-07-03', None, 9209.9, 'open', 'N', None, None, None, None, None, None, '5876198', '2017-05-12', '2018-12-13', None, 'closed', 'Y']\n",
      "['1000002', '1217471', 'credit_card,mortgage,auto_loan', '180086982231350', '2002-07-31', None, 385.68, 'open', 'N', '4649851', '2003-03-05', None, 29175.75, 'open', 'N', '5876199', '2019-07-23', None, 97687.63, 'open', 'N']\n",
      "['1000003', '1217472', 'credit_card,mortgage', '676129241615', '2014-10-22', '2019-09-22', 0.0, 'closed', 'N', '4649852', '1997-10-20', '2010-07-24', None, 'closed', 'Y', None, None, None, None, None, None]\n",
      "['1000004', '1217473', 'credit_card,mortgage,auto_loan', '3550317382496822', '1993-01-13', None, 2689.48, 'open', 'N', '4649853', '2019-12-09', None, 10811.29, 'open', 'N', '5876201', '2017-08-05', None, 45939.79, 'open', 'N']\n",
      "['1000005', '1217474', 'credit_card,mortgage,auto_loan', '2230071620538172', '2012-10-12', None, 1008.11, 'open', 'N', '4649854', '2012-12-03', None, 516680.51, 'open', 'N', '5876202', '2019-11-27', '2021-03-14', None, 'closed', 'Y']\n",
      "['1000006', '1217475', 'credit_card,auto_loan', '3551821725332247', '1996-09-23', None, 8800.21, 'open', 'N', None, None, None, None, None, None, '5876203', '2018-10-31', None, 91289.1, 'open', 'N']\n",
      "['1000007', '1217476', 'credit_card,mortgage', '630429148616', '2018-07-08', None, 7550.63, 'open', 'N', '4649856', '1997-10-24', None, 256084.33, 'open', 'N', None, None, None, None, None, None]\n",
      "['1000008', '1217477', 'credit_card,mortgage', '4229836865117399326', '2009-09-08', '2013-08-27', 0.0, 'closed', 'N', '4649857', '2002-11-10', None, 596448.47, 'open', 'N', None, None, None, None, None, None]\n",
      "['1000009', '1217478', 'credit_card,mortgage', '6504605889112508', '2000-12-22', '2016-01-31', 0.0, 'closed', 'Y', '4649858', '2014-12-17', None, 387594.61, 'open', 'N', None, None, None, None, None, None]\n",
      "['1000010', '1217479', 'credit_card,mortgage,auto_loan', '347704703520105', '1995-05-27', None, 9870.34, 'open', 'N', '4649859', '2005-02-16', None, 515355.33, 'open', 'N', '5876207', '2017-10-12', None, 45861.36, 'open', 'N']\n",
      "\n"
     ]
    }
   ],
   "source": [
    "from trino.dbapi import connect\n",
    "\n",
    "load_dotenv()\n",
    "\n",
    "conn = connect(\n",
    "    host = os.environ.get(\"host\"),\n",
    "    port=os.environ.get(\"port\"),\n",
    "    http_scheme=os.environ.get(\"http_scheme\"),\n",
    "    catalog=os.environ.get(\"catalog\"),\n",
    "    schema=os.environ.get(\"schema\"),\n",
    "    auth= trino.auth.BasicAuthentication(os.environ.get(\"username\"),os.environ.get(\"password\"))\n",
    ")\n",
    "\n",
    "cur = conn.cursor()\n",
    "cur.execute(\"show create table sample.burstbank.account\")\n",
    "rows = cur.fetchall()\n",
    "schema_string = \"\"\n",
    "for elem in rows:\n",
    "    for elem1 in elem:\n",
    "        schema_string = elem1\n",
    "# print(myString)\n",
    "\n",
    "# get a sample of the data        \n",
    "cur = conn.cursor()\n",
    "cur.execute(\"select * from sample.burstbank.account limit 10\")\n",
    "column_names = [tup[0] for tup in cur.description]\n",
    "print(column_names)\n",
    "\n",
    "rows = cur.fetchall()\n",
    "table_string = \"\"\n",
    "for row in enumerate(rows):\n",
    "    t = ''.join(map(str, row))\n",
    "    t = t[1:]\n",
    "    table_string = table_string + t +\"\\n\"\n",
    "\n",
    "print(table_string)"
   ]
  },
  {
   "cell_type": "code",
   "execution_count": 11,
   "metadata": {},
   "outputs": [
    {
     "name": "stderr",
     "output_type": "stream",
     "text": [
      "tokenizer_config.json: 100%|██████████| 1.84k/1.84k [00:00<00:00, 5.16MB/s]\n",
      "tokenizer.model: 100%|██████████| 500k/500k [00:00<00:00, 6.73MB/s]\n",
      "tokenizer.json: 100%|██████████| 1.84M/1.84M [00:00<00:00, 6.13MB/s]\n",
      "special_tokens_map.json: 100%|██████████| 515/515 [00:00<00:00, 3.24MB/s]\n",
      "config.json: 100%|██████████| 691/691 [00:00<00:00, 4.48MB/s]\n",
      "model.safetensors.index.json: 100%|██████████| 23.9k/23.9k [00:00<00:00, 3.21MB/s]\n",
      "model-00001-of-00003.safetensors: 100%|██████████| 4.94G/4.94G [05:59<00:00, 13.7MB/s]\n",
      "model-00002-of-00003.safetensors: 100%|██████████| 4.95G/4.95G [06:30<00:00, 12.7MB/s]\n",
      "model-00003-of-00003.safetensors: 100%|██████████| 3.59G/3.59G [04:24<00:00, 13.5MB/s]\n",
      "Downloading shards: 100%|██████████| 3/3 [16:55<00:00, 338.66s/it]\n",
      "Loading checkpoint shards: 100%|██████████| 3/3 [00:25<00:00,  8.55s/it]\n",
      "generation_config.json: 100%|██████████| 111/111 [00:00<00:00, 392kB/s]"
     ]
    },
    {
     "name": "stdout",
     "output_type": "stream",
     "text": [
      "### Task\n",
      "Generate a SQL query that can run in Presto or Trino to answer [QUESTION]{question}[/QUESTION]\n",
      "\n",
      "\n",
      "### Instructions\n",
      "- If you cannot answer the question with the available database schema, return 'I do not know'\n",
      "- The query must be able to run in Trino\n",
      "\n",
      "\n",
      "### Database Schema\n",
      "This query will run on a database whose schema is represented in this string:\n",
      "CREATE TABLE sample.burstbank.account (\n",
      "   custkey varchar,\n",
      "   acctkey varchar,\n",
      "   products varchar,\n",
      "   cc_number varchar,\n",
      "   cc_open_date varchar,\n",
      "   cc_closed_date varchar,\n",
      "   cc_balance double,\n",
      "   cc_status varchar,\n",
      "   cc_default varchar,\n",
      "   mortgage_id varchar,\n",
      "   mortgage_open_date varchar,\n",
      "   mortgage_closed_date varchar,\n",
      "   mortgage_balance double,\n",
      "   mortgage_status varchar,\n",
      "   mortgage_default varchar,\n",
      "   auto_loan_id varchar,\n",
      "   auto_loan_open_date varchar,\n",
      "   auto_loan_closed_date varchar,\n",
      "   auto_loan_balance double,\n",
      "   auto_loan_status varchar,\n",
      "   auto_loan_default varchar\n",
      ")\n",
      "WITH (\n",
      "   external_location = 's3://galaxy-space-dataset-aws-us-east2/demo/burstbank/account',\n",
      "   format = 'ORC',\n",
      "   type = 'HIVE'\n",
      ")\n",
      "\n",
      "### Sample Data\n",
      "This query will run on a database whose first 10 rows of data is represented in this string:\n",
      "['1000001', '1217470', 'credit_card,auto_loan', '180045349625167', '2000-07-03', None, 9209.9, 'open', 'N', None, None, None, None, None, None, '5876198', '2017-05-12', '2018-12-13', None, 'closed', 'Y']\n",
      "['1000002', '1217471', 'credit_card,mortgage,auto_loan', '180086982231350', '2002-07-31', None, 385.68, 'open', 'N', '4649851', '2003-03-05', None, 29175.75, 'open', 'N', '5876199', '2019-07-23', None, 97687.63, 'open', 'N']\n",
      "['1000003', '1217472', 'credit_card,mortgage', '676129241615', '2014-10-22', '2019-09-22', 0.0, 'closed', 'N', '4649852', '1997-10-20', '2010-07-24', None, 'closed', 'Y', None, None, None, None, None, None]\n",
      "['1000004', '1217473', 'credit_card,mortgage,auto_loan', '3550317382496822', '1993-01-13', None, 2689.48, 'open', 'N', '4649853', '2019-12-09', None, 10811.29, 'open', 'N', '5876201', '2017-08-05', None, 45939.79, 'open', 'N']\n",
      "['1000005', '1217474', 'credit_card,mortgage,auto_loan', '2230071620538172', '2012-10-12', None, 1008.11, 'open', 'N', '4649854', '2012-12-03', None, 516680.51, 'open', 'N', '5876202', '2019-11-27', '2021-03-14', None, 'closed', 'Y']\n",
      "['1000006', '1217475', 'credit_card,auto_loan', '3551821725332247', '1996-09-23', None, 8800.21, 'open', 'N', None, None, None, None, None, None, '5876203', '2018-10-31', None, 91289.1, 'open', 'N']\n",
      "['1000007', '1217476', 'credit_card,mortgage', '630429148616', '2018-07-08', None, 7550.63, 'open', 'N', '4649856', '1997-10-24', None, 256084.33, 'open', 'N', None, None, None, None, None, None]\n",
      "['1000008', '1217477', 'credit_card,mortgage', '4229836865117399326', '2009-09-08', '2013-08-27', 0.0, 'closed', 'N', '4649857', '2002-11-10', None, 596448.47, 'open', 'N', None, None, None, None, None, None]\n",
      "['1000009', '1217478', 'credit_card,mortgage', '6504605889112508', '2000-12-22', '2016-01-31', 0.0, 'closed', 'Y', '4649858', '2014-12-17', None, 387594.61, 'open', 'N', None, None, None, None, None, None]\n",
      "['1000010', '1217479', 'credit_card,mortgage,auto_loan', '347704703520105', '1995-05-27', None, 9870.34, 'open', 'N', '4649859', '2005-02-16', None, 515355.33, 'open', 'N', '5876207', '2017-10-12', None, 45861.36, 'open', 'N']\n",
      "\n",
      "\n",
      "### Answer\n",
      "Given the database schema, here is the SQL query that answers [QUESTION]{question}[/QUESTION]\n",
      "[SQL]\n",
      "\n"
     ]
    },
    {
     "name": "stderr",
     "output_type": "stream",
     "text": [
      "\n"
     ]
    }
   ],
   "source": [
    "model_name = \"defog/sqlcoder-7b-2\"\n",
    "tokenizer = AutoTokenizer.from_pretrained(model_name)\n",
    "model = AutoModelForCausalLM.from_pretrained(\n",
    "        model_name,\n",
    "        cache_dir=\"./models/\"\n",
    ")\n",
    "\n",
    "prompt = \"\"\"### Task\n",
    "Generate a SQL query that can run in Presto or Trino to answer [QUESTION]{question}[/QUESTION]\n",
    "\n",
    "\n",
    "### Instructions\n",
    "- If you cannot answer the question with the available database schema, return 'I do not know'\n",
    "- The query must be able to run in Trino\n",
    "\n",
    "\n",
    "### Database Schema\n",
    "This query will run on a database whose schema is represented in this string:\n",
    "\"\"\"+schema_string+\"\"\"\n",
    "\n",
    "### Sample Data\n",
    "This query will run on a database whose first 10 rows of data is represented in this string:\n",
    "\"\"\"+table_string+\"\"\"\n",
    "\n",
    "### Answer\n",
    "Given the database schema, here is the SQL query that answers [QUESTION]{question}[/QUESTION]\n",
    "[SQL]\n",
    "\"\"\"\n",
    "\n",
    "print(prompt)"
   ]
  },
  {
   "cell_type": "code",
   "execution_count": 12,
   "metadata": {},
   "outputs": [],
   "source": [
    "import sqlparse\n",
    "\n",
    "def generate_query(question):\n",
    "    updated_prompt = prompt.format(question=question)\n",
    "    inputs = tokenizer(updated_prompt, return_tensors=\"pt\").to(\"mps\")\n",
    "    generated_ids = model.generate(\n",
    "        **inputs,\n",
    "        num_return_sequences=1,\n",
    "        eos_token_id=tokenizer.eos_token_id,\n",
    "        pad_token_id=tokenizer.eos_token_id,\n",
    "        max_new_tokens=400,\n",
    "        do_sample=False,\n",
    "        num_beams=1,\n",
    "    )\n",
    "    outputs = tokenizer.batch_decode(generated_ids, skip_special_tokens=True)\n",
    "\n",
    "\n",
    "    return sqlparse.format(outputs[0].split(\"[SQL]\")[-1], reindent=True)"
   ]
  },
  {
   "cell_type": "code",
   "execution_count": 13,
   "metadata": {},
   "outputs": [],
   "source": [
    "question = \"What is the average credit card balance?\"\n",
    "generated_sql = generate_query(question)\n",
    "print(generated_sql)"
   ]
  },
  {
   "cell_type": "code",
   "execution_count": null,
   "metadata": {},
   "outputs": [],
   "source": [
    "generated_sql = generated_sql[:-1]\n",
    "cur.execute(generated_sql)\n",
    "rows = cur.fetchall()\n",
    "\n",
    "print(rows)"
   ]
  }
 ],
 "metadata": {
  "kernelspec": {
   "display_name": "Python 3",
   "language": "python",
   "name": "python3"
  },
  "language_info": {
   "codemirror_mode": {
    "name": "ipython",
    "version": 3
   },
   "file_extension": ".py",
   "mimetype": "text/x-python",
   "name": "python",
   "nbconvert_exporter": "python",
   "pygments_lexer": "ipython3",
   "version": "3.10.0"
  }
 },
 "nbformat": 4,
 "nbformat_minor": 2
}
