{
 "cells": [
  {
   "cell_type": "markdown",
   "metadata": {},
   "source": [
    "We need to use Python 3.10"
   ]
  },
  {
   "cell_type": "code",
   "execution_count": 1,
   "metadata": {},
   "outputs": [
    {
     "name": "stdout",
     "output_type": "stream",
     "text": [
      "Requirement already satisfied: torch in /home/andy/anaconda3/envs/localGPT/lib/python3.10/site-packages (2.2.0)\n",
      "Requirement already satisfied: transformers in /home/andy/anaconda3/envs/localGPT/lib/python3.10/site-packages (4.37.2)\n",
      "Requirement already satisfied: bitsandbytes in /home/andy/anaconda3/envs/localGPT/lib/python3.10/site-packages (0.42.0)\n",
      "Requirement already satisfied: accelerate in /home/andy/anaconda3/envs/localGPT/lib/python3.10/site-packages (0.26.1)\n",
      "Collecting sqlparse\n",
      "  Using cached sqlparse-0.4.4-py3-none-any.whl.metadata (4.0 kB)\n",
      "Collecting pystarburst\n",
      "  Using cached pystarburst-0.7.0-py3-none-any.whl.metadata (2.8 kB)\n",
      "Requirement already satisfied: python-dotenv in /home/andy/anaconda3/envs/localGPT/lib/python3.10/site-packages (1.0.1)\n",
      "Requirement already satisfied: filelock in /home/andy/anaconda3/envs/localGPT/lib/python3.10/site-packages (from torch) (3.13.1)\n",
      "Requirement already satisfied: typing-extensions>=4.8.0 in /home/andy/anaconda3/envs/localGPT/lib/python3.10/site-packages (from torch) (4.10.0)\n",
      "Requirement already satisfied: sympy in /home/andy/anaconda3/envs/localGPT/lib/python3.10/site-packages (from torch) (1.12)\n",
      "Requirement already satisfied: networkx in /home/andy/anaconda3/envs/localGPT/lib/python3.10/site-packages (from torch) (3.2.1)\n",
      "Requirement already satisfied: jinja2 in /home/andy/anaconda3/envs/localGPT/lib/python3.10/site-packages (from torch) (3.1.3)\n",
      "Requirement already satisfied: fsspec in /home/andy/anaconda3/envs/localGPT/lib/python3.10/site-packages (from torch) (2023.10.0)\n",
      "Requirement already satisfied: nvidia-cuda-nvrtc-cu12==12.1.105 in /home/andy/anaconda3/envs/localGPT/lib/python3.10/site-packages (from torch) (12.1.105)\n",
      "Requirement already satisfied: nvidia-cuda-runtime-cu12==12.1.105 in /home/andy/anaconda3/envs/localGPT/lib/python3.10/site-packages (from torch) (12.1.105)\n",
      "Requirement already satisfied: nvidia-cuda-cupti-cu12==12.1.105 in /home/andy/anaconda3/envs/localGPT/lib/python3.10/site-packages (from torch) (12.1.105)\n",
      "Requirement already satisfied: nvidia-cudnn-cu12==8.9.2.26 in /home/andy/anaconda3/envs/localGPT/lib/python3.10/site-packages (from torch) (8.9.2.26)\n",
      "Requirement already satisfied: nvidia-cublas-cu12==12.1.3.1 in /home/andy/anaconda3/envs/localGPT/lib/python3.10/site-packages (from torch) (12.1.3.1)\n",
      "Requirement already satisfied: nvidia-cufft-cu12==11.0.2.54 in /home/andy/anaconda3/envs/localGPT/lib/python3.10/site-packages (from torch) (11.0.2.54)\n",
      "Requirement already satisfied: nvidia-curand-cu12==10.3.2.106 in /home/andy/anaconda3/envs/localGPT/lib/python3.10/site-packages (from torch) (10.3.2.106)\n",
      "Requirement already satisfied: nvidia-cusolver-cu12==11.4.5.107 in /home/andy/anaconda3/envs/localGPT/lib/python3.10/site-packages (from torch) (11.4.5.107)\n",
      "Requirement already satisfied: nvidia-cusparse-cu12==12.1.0.106 in /home/andy/anaconda3/envs/localGPT/lib/python3.10/site-packages (from torch) (12.1.0.106)\n",
      "Requirement already satisfied: nvidia-nccl-cu12==2.19.3 in /home/andy/anaconda3/envs/localGPT/lib/python3.10/site-packages (from torch) (2.19.3)\n",
      "Requirement already satisfied: nvidia-nvtx-cu12==12.1.105 in /home/andy/anaconda3/envs/localGPT/lib/python3.10/site-packages (from torch) (12.1.105)\n",
      "Requirement already satisfied: triton==2.2.0 in /home/andy/anaconda3/envs/localGPT/lib/python3.10/site-packages (from torch) (2.2.0)\n",
      "Requirement already satisfied: nvidia-nvjitlink-cu12 in /home/andy/anaconda3/envs/localGPT/lib/python3.10/site-packages (from nvidia-cusolver-cu12==11.4.5.107->torch) (12.3.101)\n",
      "Requirement already satisfied: huggingface-hub<1.0,>=0.19.3 in /home/andy/anaconda3/envs/localGPT/lib/python3.10/site-packages (from transformers) (0.20.3)\n",
      "Requirement already satisfied: numpy>=1.17 in /home/andy/anaconda3/envs/localGPT/lib/python3.10/site-packages (from transformers) (1.26.4)\n",
      "Requirement already satisfied: packaging>=20.0 in /home/andy/anaconda3/envs/localGPT/lib/python3.10/site-packages (from transformers) (23.2)\n",
      "Requirement already satisfied: pyyaml>=5.1 in /home/andy/anaconda3/envs/localGPT/lib/python3.10/site-packages (from transformers) (6.0.1)\n",
      "Requirement already satisfied: regex!=2019.12.17 in /home/andy/anaconda3/envs/localGPT/lib/python3.10/site-packages (from transformers) (2023.12.25)\n",
      "Requirement already satisfied: requests in /home/andy/anaconda3/envs/localGPT/lib/python3.10/site-packages (from transformers) (2.31.0)\n",
      "Requirement already satisfied: tokenizers<0.19,>=0.14 in /home/andy/anaconda3/envs/localGPT/lib/python3.10/site-packages (from transformers) (0.15.1)\n",
      "Requirement already satisfied: safetensors>=0.4.1 in /home/andy/anaconda3/envs/localGPT/lib/python3.10/site-packages (from transformers) (0.4.2)\n",
      "Requirement already satisfied: tqdm>=4.27 in /home/andy/anaconda3/envs/localGPT/lib/python3.10/site-packages (from transformers) (4.66.1)\n",
      "Requirement already satisfied: scipy in /home/andy/anaconda3/envs/localGPT/lib/python3.10/site-packages (from bitsandbytes) (1.12.0)\n",
      "Requirement already satisfied: psutil in /home/andy/anaconda3/envs/localGPT/lib/python3.10/site-packages (from accelerate) (5.9.0)\n",
      "Requirement already satisfied: pydantic<2.0.0,>=1.10.14 in /home/andy/anaconda3/envs/localGPT/lib/python3.10/site-packages (from pystarburst) (1.10.14)\n",
      "Requirement already satisfied: python-dateutil<3.0.0,>=2.8.2 in /home/andy/anaconda3/envs/localGPT/lib/python3.10/site-packages (from pystarburst) (2.8.2)\n",
      "Collecting trino<0.328.0,>=0.327.0 (from pystarburst)\n",
      "  Using cached trino-0.327.0-py3-none-any.whl.metadata (17 kB)\n",
      "Collecting urllib3<3.0.0,>=2.2.0 (from pystarburst)\n",
      "  Using cached urllib3-2.2.1-py3-none-any.whl.metadata (6.4 kB)\n",
      "Requirement already satisfied: six>=1.5 in /home/andy/anaconda3/envs/localGPT/lib/python3.10/site-packages (from python-dateutil<3.0.0,>=2.8.2->pystarburst) (1.16.0)\n",
      "Requirement already satisfied: pytz in /home/andy/anaconda3/envs/localGPT/lib/python3.10/site-packages (from trino<0.328.0,>=0.327.0->pystarburst) (2024.1)\n",
      "Requirement already satisfied: tzlocal in /home/andy/anaconda3/envs/localGPT/lib/python3.10/site-packages (from trino<0.328.0,>=0.327.0->pystarburst) (5.2)\n",
      "Requirement already satisfied: charset-normalizer<4,>=2 in /home/andy/anaconda3/envs/localGPT/lib/python3.10/site-packages (from requests->transformers) (3.3.2)\n",
      "Requirement already satisfied: idna<4,>=2.5 in /home/andy/anaconda3/envs/localGPT/lib/python3.10/site-packages (from requests->transformers) (3.6)\n",
      "Requirement already satisfied: certifi>=2017.4.17 in /home/andy/anaconda3/envs/localGPT/lib/python3.10/site-packages (from requests->transformers) (2024.2.2)\n",
      "Requirement already satisfied: MarkupSafe>=2.0 in /home/andy/anaconda3/envs/localGPT/lib/python3.10/site-packages (from jinja2->torch) (2.1.5)\n",
      "Requirement already satisfied: mpmath>=0.19 in /home/andy/anaconda3/envs/localGPT/lib/python3.10/site-packages (from sympy->torch) (1.3.0)\n",
      "Using cached sqlparse-0.4.4-py3-none-any.whl (41 kB)\n",
      "Using cached pystarburst-0.7.0-py3-none-any.whl (130 kB)\n",
      "Using cached trino-0.327.0-py3-none-any.whl (49 kB)\n",
      "Using cached urllib3-2.2.1-py3-none-any.whl (121 kB)\n",
      "Installing collected packages: urllib3, sqlparse, trino, pystarburst\n",
      "  Attempting uninstall: urllib3\n",
      "    Found existing installation: urllib3 1.26.6\n",
      "    Uninstalling urllib3-1.26.6:\n",
      "      Successfully uninstalled urllib3-1.26.6\n",
      "Successfully installed pystarburst-0.7.0 sqlparse-0.4.4 trino-0.327.0 urllib3-2.2.1\n",
      "Note: you may need to restart the kernel to use updated packages.\n"
     ]
    }
   ],
   "source": [
    "%pip install torch transformers bitsandbytes accelerate sqlparse pystarburst python-dotenv"
   ]
  },
  {
   "cell_type": "code",
   "execution_count": 2,
   "metadata": {},
   "outputs": [
    {
     "name": "stderr",
     "output_type": "stream",
     "text": [
      "/home/andy/anaconda3/envs/localGPT/lib/python3.10/site-packages/tqdm/auto.py:21: TqdmWarning: IProgress not found. Please update jupyter and ipywidgets. See https://ipywidgets.readthedocs.io/en/stable/user_install.html\n",
      "  from .autonotebook import tqdm as notebook_tqdm\n"
     ]
    }
   ],
   "source": [
    "import torch\n",
    "import os\n",
    "import trino\n",
    "from transformers import AutoTokenizer, AutoModelForCausalLM\n",
    "from dotenv import load_dotenv"
   ]
  },
  {
   "cell_type": "code",
   "execution_count": 18,
   "metadata": {},
   "outputs": [
    {
     "name": "stdout",
     "output_type": "stream",
     "text": [
      "['custkey', 'acctkey', 'products', 'cc_number', 'cc_open_date', 'cc_closed_date', 'cc_balance', 'cc_status', 'cc_default', 'mortgage_id', 'mortgage_open_date', 'mortgage_closed_date', 'mortgage_balance', 'mortgage_status', 'mortgage_default', 'auto_loan_id', 'auto_loan_open_date', 'auto_loan_closed_date', 'auto_loan_balance', 'auto_loan_status', 'auto_loan_default']\n",
      "['1000001', '1217470', 'credit_card,auto_loan', '180045349625167', '2000-07-03', None, 9209.9, 'open', 'N', None, None, None, None, None, None, '5876198', '2017-05-12', '2018-12-13', None, 'closed', 'Y']\n",
      "['1000002', '1217471', 'credit_card,mortgage,auto_loan', '180086982231350', '2002-07-31', None, 385.68, 'open', 'N', '4649851', '2003-03-05', None, 29175.75, 'open', 'N', '5876199', '2019-07-23', None, 97687.63, 'open', 'N']\n",
      "['1000003', '1217472', 'credit_card,mortgage', '676129241615', '2014-10-22', '2019-09-22', 0.0, 'closed', 'N', '4649852', '1997-10-20', '2010-07-24', None, 'closed', 'Y', None, None, None, None, None, None]\n",
      "['1000004', '1217473', 'credit_card,mortgage,auto_loan', '3550317382496822', '1993-01-13', None, 2689.48, 'open', 'N', '4649853', '2019-12-09', None, 10811.29, 'open', 'N', '5876201', '2017-08-05', None, 45939.79, 'open', 'N']\n",
      "['1000005', '1217474', 'credit_card,mortgage,auto_loan', '2230071620538172', '2012-10-12', None, 1008.11, 'open', 'N', '4649854', '2012-12-03', None, 516680.51, 'open', 'N', '5876202', '2019-11-27', '2021-03-14', None, 'closed', 'Y']\n",
      "['1000006', '1217475', 'credit_card,auto_loan', '3551821725332247', '1996-09-23', None, 8800.21, 'open', 'N', None, None, None, None, None, None, '5876203', '2018-10-31', None, 91289.1, 'open', 'N']\n",
      "['1000007', '1217476', 'credit_card,mortgage', '630429148616', '2018-07-08', None, 7550.63, 'open', 'N', '4649856', '1997-10-24', None, 256084.33, 'open', 'N', None, None, None, None, None, None]\n",
      "['1000008', '1217477', 'credit_card,mortgage', '4229836865117399326', '2009-09-08', '2013-08-27', 0.0, 'closed', 'N', '4649857', '2002-11-10', None, 596448.47, 'open', 'N', None, None, None, None, None, None]\n",
      "['1000009', '1217478', 'credit_card,mortgage', '6504605889112508', '2000-12-22', '2016-01-31', 0.0, 'closed', 'Y', '4649858', '2014-12-17', None, 387594.61, 'open', 'N', None, None, None, None, None, None]\n",
      "['1000010', '1217479', 'credit_card,mortgage,auto_loan', '347704703520105', '1995-05-27', None, 9870.34, 'open', 'N', '4649859', '2005-02-16', None, 515355.33, 'open', 'N', '5876207', '2017-10-12', None, 45861.36, 'open', 'N']\n",
      "\n"
     ]
    }
   ],
   "source": [
    "from trino.dbapi import connect\n",
    "\n",
    "load_dotenv()\n",
    "\n",
    "conn = connect(\n",
    "    host = os.environ.get(\"host\"),\n",
    "    port=os.environ.get(\"port\"),\n",
    "    http_scheme=os.environ.get(\"http_scheme\"),\n",
    "    catalog=os.environ.get(\"catalog\"),\n",
    "    schema=os.environ.get(\"schema\"),\n",
    "    auth= trino.auth.BasicAuthentication(os.environ.get(\"username\"),os.environ.get(\"password\"))\n",
    ")\n",
    "\n",
    "cur = conn.cursor()\n",
    "cur.execute(\"show create table sample.burstbank.account\")\n",
    "rows = cur.fetchall()\n",
    "schema_string = \"\"\n",
    "for elem in rows:\n",
    "    for elem1 in elem:\n",
    "        schema_string = elem1\n",
    "# print(myString)\n",
    "\n",
    "# get a sample of the data        \n",
    "cur = conn.cursor()\n",
    "cur.execute(\"select * from sample.burstbank.account limit 10\")\n",
    "column_names = [tup[0] for tup in cur.description]\n",
    "print(column_names)\n",
    "\n",
    "rows = cur.fetchall()\n",
    "table_string = \"\"\n",
    "for row in enumerate(rows):\n",
    "    t = ''.join(map(str, row))\n",
    "    t = t[1:]\n",
    "    table_string = table_string + t +\"\\n\"\n",
    "\n",
    "print(table_string)"
   ]
  },
  {
   "cell_type": "code",
   "execution_count": 23,
   "metadata": {},
   "outputs": [
    {
     "name": "stderr",
     "output_type": "stream",
     "text": [
      "Loading checkpoint shards: 100%|██████████| 3/3 [00:10<00:00,  3.49s/it]\n"
     ]
    },
    {
     "name": "stdout",
     "output_type": "stream",
     "text": [
      "### Task\n",
      "Generate a SQL query to answer [QUESTION]{question}[/QUESTION]\n",
      "\n",
      "The SQL needs to be run in Trino\n",
      "\n",
      "### Instructions\n",
      "- If you cannot answer the question with the available database schema, return 'I do not know'\n",
      "- Remember that revenue is price multiplied by quantity\n",
      "- Remember that cost is supply_price multiplied by quantity\n",
      "\n",
      "### Database Schema\n",
      "This query will run on a database whose schema is represented in this string:\n",
      "CREATE TABLE sample.burstbank.account (\n",
      "   custkey varchar,\n",
      "   acctkey varchar,\n",
      "   products varchar,\n",
      "   cc_number varchar,\n",
      "   cc_open_date varchar,\n",
      "   cc_closed_date varchar,\n",
      "   cc_balance double,\n",
      "   cc_status varchar,\n",
      "   cc_default varchar,\n",
      "   mortgage_id varchar,\n",
      "   mortgage_open_date varchar,\n",
      "   mortgage_closed_date varchar,\n",
      "   mortgage_balance double,\n",
      "   mortgage_status varchar,\n",
      "   mortgage_default varchar,\n",
      "   auto_loan_id varchar,\n",
      "   auto_loan_open_date varchar,\n",
      "   auto_loan_closed_date varchar,\n",
      "   auto_loan_balance double,\n",
      "   auto_loan_status varchar,\n",
      "   auto_loan_default varchar\n",
      ")\n",
      "WITH (\n",
      "   external_location = 's3://galaxy-space-dataset-aws-us-east2/demo/burstbank/account',\n",
      "   format = 'ORC',\n",
      "   type = 'HIVE'\n",
      ")\n",
      "\n",
      "### Sample Data\n",
      "This query will run on a database whose first 10 rows of data is represented in this string:\n",
      "['1000001', '1217470', 'credit_card,auto_loan', '180045349625167', '2000-07-03', None, 9209.9, 'open', 'N', None, None, None, None, None, None, '5876198', '2017-05-12', '2018-12-13', None, 'closed', 'Y']\n",
      "['1000002', '1217471', 'credit_card,mortgage,auto_loan', '180086982231350', '2002-07-31', None, 385.68, 'open', 'N', '4649851', '2003-03-05', None, 29175.75, 'open', 'N', '5876199', '2019-07-23', None, 97687.63, 'open', 'N']\n",
      "['1000003', '1217472', 'credit_card,mortgage', '676129241615', '2014-10-22', '2019-09-22', 0.0, 'closed', 'N', '4649852', '1997-10-20', '2010-07-24', None, 'closed', 'Y', None, None, None, None, None, None]\n",
      "['1000004', '1217473', 'credit_card,mortgage,auto_loan', '3550317382496822', '1993-01-13', None, 2689.48, 'open', 'N', '4649853', '2019-12-09', None, 10811.29, 'open', 'N', '5876201', '2017-08-05', None, 45939.79, 'open', 'N']\n",
      "['1000005', '1217474', 'credit_card,mortgage,auto_loan', '2230071620538172', '2012-10-12', None, 1008.11, 'open', 'N', '4649854', '2012-12-03', None, 516680.51, 'open', 'N', '5876202', '2019-11-27', '2021-03-14', None, 'closed', 'Y']\n",
      "['1000006', '1217475', 'credit_card,auto_loan', '3551821725332247', '1996-09-23', None, 8800.21, 'open', 'N', None, None, None, None, None, None, '5876203', '2018-10-31', None, 91289.1, 'open', 'N']\n",
      "['1000007', '1217476', 'credit_card,mortgage', '630429148616', '2018-07-08', None, 7550.63, 'open', 'N', '4649856', '1997-10-24', None, 256084.33, 'open', 'N', None, None, None, None, None, None]\n",
      "['1000008', '1217477', 'credit_card,mortgage', '4229836865117399326', '2009-09-08', '2013-08-27', 0.0, 'closed', 'N', '4649857', '2002-11-10', None, 596448.47, 'open', 'N', None, None, None, None, None, None]\n",
      "['1000009', '1217478', 'credit_card,mortgage', '6504605889112508', '2000-12-22', '2016-01-31', 0.0, 'closed', 'Y', '4649858', '2014-12-17', None, 387594.61, 'open', 'N', None, None, None, None, None, None]\n",
      "['1000010', '1217479', 'credit_card,mortgage,auto_loan', '347704703520105', '1995-05-27', None, 9870.34, 'open', 'N', '4649859', '2005-02-16', None, 515355.33, 'open', 'N', '5876207', '2017-10-12', None, 45861.36, 'open', 'N']\n",
      "\n",
      "\n",
      "### Answer\n",
      "Given the database schema, here is the SQL query that answers [QUESTION]{question}[/QUESTION]\n",
      "[SQL]\n",
      "\n"
     ]
    }
   ],
   "source": [
    "model_name = \"defog/sqlcoder-7b-2\"\n",
    "tokenizer = AutoTokenizer.from_pretrained(model_name)\n",
    "model = AutoModelForCausalLM.from_pretrained(\n",
    "        model_name,\n",
    "        cache_dir=\"./models/\"\n",
    ")\n",
    "\n",
    "prompt = \"\"\"### Task\n",
    "Generate a SQL query that can run in Presto or Trino to answer [QUESTION]{question}[/QUESTION]\n",
    "\n",
    "\n",
    "### Instructions\n",
    "- If you cannot answer the question with the available database schema, return 'I do not know'\n",
    "- The query must be able to run in Trino\n",
    "\n",
    "\n",
    "### Database Schema\n",
    "This query will run on a database whose schema is represented in this string:\n",
    "\"\"\"+schema_string+\"\"\"\n",
    "\n",
    "### Sample Data\n",
    "This query will run on a database whose first 10 rows of data is represented in this string:\n",
    "\"\"\"+table_string+\"\"\"\n",
    "\n",
    "### Answer\n",
    "Given the database schema, here is the SQL query that answers [QUESTION]{question}[/QUESTION]\n",
    "[SQL]\n",
    "\"\"\"\n",
    "\n",
    "print(prompt)"
   ]
  },
  {
   "cell_type": "code",
   "execution_count": 24,
   "metadata": {},
   "outputs": [],
   "source": [
    "import sqlparse\n",
    "\n",
    "def generate_query(question):\n",
    "    updated_prompt = prompt.format(question=question)\n",
    "    inputs = tokenizer(updated_prompt, return_tensors=\"pt\").to(\"cpu\")\n",
    "    generated_ids = model.generate(\n",
    "        **inputs,\n",
    "        num_return_sequences=1,\n",
    "        eos_token_id=tokenizer.eos_token_id,\n",
    "        pad_token_id=tokenizer.eos_token_id,\n",
    "        max_new_tokens=400,\n",
    "        do_sample=False,\n",
    "        num_beams=1,\n",
    "    )\n",
    "    outputs = tokenizer.batch_decode(generated_ids, skip_special_tokens=True)\n",
    "\n",
    "\n",
    "    return sqlparse.format(outputs[0].split(\"[SQL]\")[-1], reindent=True)"
   ]
  },
  {
   "cell_type": "code",
   "execution_count": 25,
   "metadata": {},
   "outputs": [
    {
     "name": "stdout",
     "output_type": "stream",
     "text": [
      "\n",
      "SELECT AVG(a.cc_balance) AS average_credit_card_balance\n",
      "FROM sample.burstbank.account a\n",
      "WHERE a.products ilike '%credit_card%';\n"
     ]
    }
   ],
   "source": [
    "question = \"What is the average credit card balance?\"\n",
    "generated_sql = generate_query(question)\n",
    "print(generated_sql)"
   ]
  },
  {
   "cell_type": "code",
   "execution_count": 22,
   "metadata": {},
   "outputs": [
    {
     "ename": "TrinoUserError",
     "evalue": "TrinoUserError(type=USER_ERROR, name=SYNTAX_ERROR, message=\"line 4:18: mismatched input 'ilike'. Expecting: '%', '*', '+', '-', '.', '/', 'AND', 'AT', 'EXCEPT', 'FETCH', 'GROUP', 'HAVING', 'INTERSECT', 'LIMIT', 'OFFSET', 'OR', 'ORDER', 'UNION', 'WINDOW', '[', '||', <EOF>, <predicate>\", query_id=20240229_090430_01129_pekug)",
     "output_type": "error",
     "traceback": [
      "\u001b[0;31m---------------------------------------------------------------------------\u001b[0m",
      "\u001b[0;31mTrinoUserError\u001b[0m                            Traceback (most recent call last)",
      "Cell \u001b[0;32mIn[22], line 2\u001b[0m\n\u001b[1;32m      1\u001b[0m generated_sql \u001b[38;5;241m=\u001b[39m generated_sql[:\u001b[38;5;241m-\u001b[39m\u001b[38;5;241m1\u001b[39m]\n\u001b[0;32m----> 2\u001b[0m \u001b[43mcur\u001b[49m\u001b[38;5;241;43m.\u001b[39;49m\u001b[43mexecute\u001b[49m\u001b[43m(\u001b[49m\u001b[43mgenerated_sql\u001b[49m\u001b[43m)\u001b[49m\n\u001b[1;32m      3\u001b[0m rows \u001b[38;5;241m=\u001b[39m cur\u001b[38;5;241m.\u001b[39mfetchall()\n\u001b[1;32m      5\u001b[0m \u001b[38;5;28mprint\u001b[39m(rows)\n",
      "File \u001b[0;32m~/anaconda3/envs/localGPT/lib/python3.10/site-packages/trino/dbapi.py:592\u001b[0m, in \u001b[0;36mCursor.execute\u001b[0;34m(self, operation, params)\u001b[0m\n\u001b[1;32m    589\u001b[0m \u001b[38;5;28;01melse\u001b[39;00m:\n\u001b[1;32m    590\u001b[0m     \u001b[38;5;28mself\u001b[39m\u001b[38;5;241m.\u001b[39m_query \u001b[38;5;241m=\u001b[39m trino\u001b[38;5;241m.\u001b[39mclient\u001b[38;5;241m.\u001b[39mTrinoQuery(\u001b[38;5;28mself\u001b[39m\u001b[38;5;241m.\u001b[39m_request, query\u001b[38;5;241m=\u001b[39moperation,\n\u001b[1;32m    591\u001b[0m                                           legacy_primitive_types\u001b[38;5;241m=\u001b[39m\u001b[38;5;28mself\u001b[39m\u001b[38;5;241m.\u001b[39m_legacy_primitive_types)\n\u001b[0;32m--> 592\u001b[0m     \u001b[38;5;28mself\u001b[39m\u001b[38;5;241m.\u001b[39m_iterator \u001b[38;5;241m=\u001b[39m \u001b[38;5;28miter\u001b[39m(\u001b[38;5;28;43mself\u001b[39;49m\u001b[38;5;241;43m.\u001b[39;49m\u001b[43m_query\u001b[49m\u001b[38;5;241;43m.\u001b[39;49m\u001b[43mexecute\u001b[49m\u001b[43m(\u001b[49m\u001b[43m)\u001b[49m)\n\u001b[1;32m    593\u001b[0m \u001b[38;5;28;01mreturn\u001b[39;00m \u001b[38;5;28mself\u001b[39m\n",
      "File \u001b[0;32m~/anaconda3/envs/localGPT/lib/python3.10/site-packages/trino/client.py:810\u001b[0m, in \u001b[0;36mTrinoQuery.execute\u001b[0;34m(self, additional_http_headers)\u001b[0m\n\u001b[1;32m    808\u001b[0m \u001b[38;5;66;03m# Execute should block until at least one row is received or query is finished or cancelled\u001b[39;00m\n\u001b[1;32m    809\u001b[0m \u001b[38;5;28;01mwhile\u001b[39;00m \u001b[38;5;129;01mnot\u001b[39;00m \u001b[38;5;28mself\u001b[39m\u001b[38;5;241m.\u001b[39mfinished \u001b[38;5;129;01mand\u001b[39;00m \u001b[38;5;129;01mnot\u001b[39;00m \u001b[38;5;28mself\u001b[39m\u001b[38;5;241m.\u001b[39mcancelled \u001b[38;5;129;01mand\u001b[39;00m \u001b[38;5;28mlen\u001b[39m(\u001b[38;5;28mself\u001b[39m\u001b[38;5;241m.\u001b[39m_result\u001b[38;5;241m.\u001b[39mrows) \u001b[38;5;241m==\u001b[39m \u001b[38;5;241m0\u001b[39m:\n\u001b[0;32m--> 810\u001b[0m     \u001b[38;5;28mself\u001b[39m\u001b[38;5;241m.\u001b[39m_result\u001b[38;5;241m.\u001b[39mrows \u001b[38;5;241m+\u001b[39m\u001b[38;5;241m=\u001b[39m \u001b[38;5;28;43mself\u001b[39;49m\u001b[38;5;241;43m.\u001b[39;49m\u001b[43mfetch\u001b[49m\u001b[43m(\u001b[49m\u001b[43m)\u001b[49m\n\u001b[1;32m    811\u001b[0m \u001b[38;5;28;01mreturn\u001b[39;00m \u001b[38;5;28mself\u001b[39m\u001b[38;5;241m.\u001b[39m_result\n",
      "File \u001b[0;32m~/anaconda3/envs/localGPT/lib/python3.10/site-packages/trino/client.py:830\u001b[0m, in \u001b[0;36mTrinoQuery.fetch\u001b[0;34m(self)\u001b[0m\n\u001b[1;32m    828\u001b[0m \u001b[38;5;28;01mexcept\u001b[39;00m requests\u001b[38;5;241m.\u001b[39mexceptions\u001b[38;5;241m.\u001b[39mRequestException \u001b[38;5;28;01mas\u001b[39;00m e:\n\u001b[1;32m    829\u001b[0m     \u001b[38;5;28;01mraise\u001b[39;00m trino\u001b[38;5;241m.\u001b[39mexceptions\u001b[38;5;241m.\u001b[39mTrinoConnectionError(\u001b[38;5;124m\"\u001b[39m\u001b[38;5;124mfailed to fetch: \u001b[39m\u001b[38;5;132;01m{}\u001b[39;00m\u001b[38;5;124m\"\u001b[39m\u001b[38;5;241m.\u001b[39mformat(e))\n\u001b[0;32m--> 830\u001b[0m status \u001b[38;5;241m=\u001b[39m \u001b[38;5;28;43mself\u001b[39;49m\u001b[38;5;241;43m.\u001b[39;49m\u001b[43m_request\u001b[49m\u001b[38;5;241;43m.\u001b[39;49m\u001b[43mprocess\u001b[49m\u001b[43m(\u001b[49m\u001b[43mresponse\u001b[49m\u001b[43m)\u001b[49m\n\u001b[1;32m    831\u001b[0m \u001b[38;5;28mself\u001b[39m\u001b[38;5;241m.\u001b[39m_update_state(status)\n\u001b[1;32m    832\u001b[0m logger\u001b[38;5;241m.\u001b[39mdebug(status)\n",
      "File \u001b[0;32m~/anaconda3/envs/localGPT/lib/python3.10/site-packages/trino/client.py:609\u001b[0m, in \u001b[0;36mTrinoRequest.process\u001b[0;34m(self, http_response)\u001b[0m\n\u001b[1;32m    607\u001b[0m logger\u001b[38;5;241m.\u001b[39mdebug(\u001b[38;5;124m\"\u001b[39m\u001b[38;5;124mHTTP \u001b[39m\u001b[38;5;132;01m%s\u001b[39;00m\u001b[38;5;124m: \u001b[39m\u001b[38;5;132;01m%s\u001b[39;00m\u001b[38;5;124m\"\u001b[39m, http_response\u001b[38;5;241m.\u001b[39mstatus_code, response)\n\u001b[1;32m    608\u001b[0m \u001b[38;5;28;01mif\u001b[39;00m \u001b[38;5;124m\"\u001b[39m\u001b[38;5;124merror\u001b[39m\u001b[38;5;124m\"\u001b[39m \u001b[38;5;129;01min\u001b[39;00m response:\n\u001b[0;32m--> 609\u001b[0m     \u001b[38;5;28;01mraise\u001b[39;00m \u001b[38;5;28mself\u001b[39m\u001b[38;5;241m.\u001b[39m_process_error(response[\u001b[38;5;124m\"\u001b[39m\u001b[38;5;124merror\u001b[39m\u001b[38;5;124m\"\u001b[39m], response\u001b[38;5;241m.\u001b[39mget(\u001b[38;5;124m\"\u001b[39m\u001b[38;5;124mid\u001b[39m\u001b[38;5;124m\"\u001b[39m))\n\u001b[1;32m    611\u001b[0m \u001b[38;5;28;01mif\u001b[39;00m constants\u001b[38;5;241m.\u001b[39mHEADER_CLEAR_SESSION \u001b[38;5;129;01min\u001b[39;00m http_response\u001b[38;5;241m.\u001b[39mheaders:\n\u001b[1;32m    612\u001b[0m     \u001b[38;5;28;01mfor\u001b[39;00m prop \u001b[38;5;129;01min\u001b[39;00m get_header_values(\n\u001b[1;32m    613\u001b[0m         http_response\u001b[38;5;241m.\u001b[39mheaders, constants\u001b[38;5;241m.\u001b[39mHEADER_CLEAR_SESSION\n\u001b[1;32m    614\u001b[0m     ):\n",
      "\u001b[0;31mTrinoUserError\u001b[0m: TrinoUserError(type=USER_ERROR, name=SYNTAX_ERROR, message=\"line 4:18: mismatched input 'ilike'. Expecting: '%', '*', '+', '-', '.', '/', 'AND', 'AT', 'EXCEPT', 'FETCH', 'GROUP', 'HAVING', 'INTERSECT', 'LIMIT', 'OFFSET', 'OR', 'ORDER', 'UNION', 'WINDOW', '[', '||', <EOF>, <predicate>\", query_id=20240229_090430_01129_pekug)"
     ]
    }
   ],
   "source": [
    "generated_sql = generated_sql[:-1]\n",
    "cur.execute(generated_sql)\n",
    "rows = cur.fetchall()\n",
    "\n",
    "print(rows)"
   ]
  }
 ],
 "metadata": {
  "kernelspec": {
   "display_name": "Python 3",
   "language": "python",
   "name": "python3"
  },
  "language_info": {
   "codemirror_mode": {
    "name": "ipython",
    "version": 3
   },
   "file_extension": ".py",
   "mimetype": "text/x-python",
   "name": "python",
   "nbconvert_exporter": "python",
   "pygments_lexer": "ipython3",
   "version": "3.10.0"
  }
 },
 "nbformat": 4,
 "nbformat_minor": 2
}
