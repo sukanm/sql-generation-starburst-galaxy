{
 "cells": [
  {
   "cell_type": "markdown",
   "metadata": {},
   "source": [
    "We need to use Python 3.10"
   ]
  },
  {
   "cell_type": "code",
   "execution_count": null,
   "metadata": {},
   "outputs": [],
   "source": [
    "%pip install torch transformers bitsandbytes accelerate sqlparse pystarburst python-dotenv"
   ]
  },
  {
   "cell_type": "code",
   "execution_count": null,
   "metadata": {},
   "outputs": [],
   "source": [
    "import torch\n",
    "import os\n",
    "import trino\n",
    "from transformers import AutoTokenizer, AutoModelForCausalLM\n",
    "from dotenv import load_dotenv"
   ]
  },
  {
   "cell_type": "code",
   "execution_count": null,
   "metadata": {},
   "outputs": [],
   "source": [
    "from trino.dbapi import connect\n",
    "\n",
    "load_dotenv()\n",
    "\n",
    "conn = connect(\n",
    "    host = os.environ.get(\"host\"),\n",
    "    port=os.environ.get(\"port\"),\n",
    "    http_scheme=os.environ.get(\"http_scheme\"),\n",
    "    catalog=os.environ.get(\"catalog\"),\n",
    "    schema=os.environ.get(\"schema\"),\n",
    "    auth= trino.auth.BasicAuthentication(os.environ.get(\"username\"),os.environ.get(\"password\"))\n",
    ")\n",
    "\n",
    "cur = conn.cursor()\n",
    "cur.execute(\"show create table sample.burstbank.account\")\n",
    "rows = cur.fetchall()\n",
    "schema_string = \"\"\n",
    "for elem in rows:\n",
    "    for elem1 in elem:\n",
    "        schema_string = elem1\n",
    "# print(myString)\n",
    "\n",
    "# get a sample of the data        \n",
    "cur = conn.cursor()\n",
    "cur.execute(\"select * from sample.burstbank.account limit 10\")\n",
    "column_names = [tup[0] for tup in cur.description]\n",
    "print(column_names)\n",
    "\n",
    "rows = cur.fetchall()\n",
    "table_string = \"\"\n",
    "for row in enumerate(rows):\n",
    "    t = ''.join(map(str, row))\n",
    "    t = t[1:]\n",
    "    table_string = table_string + t +\"\\n\"\n",
    "\n",
    "print(table_string)"
   ]
  },
  {
   "cell_type": "code",
   "execution_count": null,
   "metadata": {},
   "outputs": [],
   "source": [
    "model_name = \"defog/sqlcoder-7b-2\"\n",
    "tokenizer = AutoTokenizer.from_pretrained(model_name)\n",
    "model = AutoModelForCausalLM.from_pretrained(\n",
    "        model_name,\n",
    "        cache_dir=\"./models/\"\n",
    ")\n",
    "\n",
    "prompt = \"\"\"### Task\n",
    "Generate a SQL query that can run in Presto or Trino to answer [QUESTION]{question}[/QUESTION]\n",
    "\n",
    "\n",
    "### Instructions\n",
    "- If you cannot answer the question with the available database schema, return 'I do not know'\n",
    "- The query must be able to run in Trino\n",
    "\n",
    "\n",
    "### Database Schema\n",
    "This query will run on a database whose schema is represented in this string:\n",
    "\"\"\"+schema_string+\"\"\"\n",
    "\n",
    "### Sample Data\n",
    "This query will run on a database whose first 10 rows of data is represented in this string:\n",
    "\"\"\"+table_string+\"\"\"\n",
    "\n",
    "### Answer\n",
    "Given the database schema, here is the SQL query that answers [QUESTION]{question}[/QUESTION]\n",
    "[SQL]\n",
    "\"\"\"\n",
    "\n",
    "print(prompt)"
   ]
  },
  {
   "cell_type": "code",
   "execution_count": 27,
   "metadata": {},
   "outputs": [],
   "source": [
    "import sqlparse\n",
    "\n",
    "def generate_query(question):\n",
    "    updated_prompt = prompt.format(question=question)\n",
    "    inputs = tokenizer(updated_prompt, return_tensors=\"pt\").to(\"cpu\")\n",
    "    generated_ids = model.generate(\n",
    "        **inputs,\n",
    "        num_return_sequences=1,\n",
    "        eos_token_id=tokenizer.eos_token_id,\n",
    "        pad_token_id=tokenizer.eos_token_id,\n",
    "        max_new_tokens=400,\n",
    "        do_sample=False,\n",
    "        num_beams=1,\n",
    "    )\n",
    "    outputs = tokenizer.batch_decode(generated_ids, skip_special_tokens=True)\n",
    "\n",
    "\n",
    "    return sqlparse.format(outputs[0].split(\"[SQL]\")[-1], reindent=True)"
   ]
  },
  {
   "cell_type": "code",
   "execution_count": 28,
   "metadata": {},
   "outputs": [],
   "source": [
    "question = \"What is the average credit card balance?\"\n",
    "generated_sql = generate_query(question)\n",
    "print(generated_sql)"
   ]
  },
  {
   "cell_type": "code",
   "execution_count": null,
   "metadata": {},
   "outputs": [],
   "source": [
    "generated_sql = generated_sql[:-1]\n",
    "cur.execute(generated_sql)\n",
    "rows = cur.fetchall()\n",
    "\n",
    "print(rows)"
   ]
  }
 ],
 "metadata": {
  "kernelspec": {
   "display_name": "Python 3",
   "language": "python",
   "name": "python3"
  },
  "language_info": {
   "codemirror_mode": {
    "name": "ipython",
    "version": 3
   },
   "file_extension": ".py",
   "mimetype": "text/x-python",
   "name": "python",
   "nbconvert_exporter": "python",
   "pygments_lexer": "ipython3",
   "version": "3.10.0"
  }
 },
 "nbformat": 4,
 "nbformat_minor": 2
}
